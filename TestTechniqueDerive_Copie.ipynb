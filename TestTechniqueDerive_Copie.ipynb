{
 "cells": [
  {
   "cell_type": "markdown",
   "id": "b7b7e66e",
   "metadata": {},
   "source": [
    "<center><img src=\"https://is1-ssl.mzstatic.com/image/thumb/Purple122/v4/05/e7/67/05e76784-3364-b535-7e20-b3f4946a56b6/AppIcon-0-0-1x_U007emarketing-0-0-0-7-0-0-sRGB-0-0-0-GLES2_U002c0-512MB-85-220-0-0.png/434x0w.webp\" style=\"height:150px\"></center>\n",
    "\n",
    "<hr style=\"border-width:2px;border-color:red\">\n",
    "<center><h1>Test Technique Data Scientist</h1></center>\n",
    "<center><h2> Mesure de la dérive </h2></center>\n",
    "<hr style=\"border-width:2px;border-color:red\">\n",
    "\n",
    "# Contexte\n",
    "\n",
    "La **dérive** en apprentissage automatique (ou **\"drift\"** en anglais) fait référence à un **changement dans les données d'entrée ou de sortie d'un modèle** de machine learning **après son entraînement initial**. Cela peut se produire lorsque les données utilisées pour entraîner le modèle ne **reflètent plus la réalité**, ou lorsque **les conditions du problème changent de manière significative**.\n",
    "\n",
    "La dérive des données peut affecter la précision du modèle de manière significative et peut entraîner des erreurs coûteuses dans les prévisions ou les décisions basées sur le modèle. Par conséquent, **il est important de surveiller régulièrement les performances du modèle** et de le mettre à jour en fonction des nouveaux jeux de données ou des nouvelles conditions du problème.\n",
    "\n",
    "# Objectif\n",
    "\n",
    "Dans ce test, vous allez implémenter des métriques permettant de mesurer la dérive d'un modèle dans un usecase de **e-commerce** où nous essayons de prédire le **panier total** (variable **`TotalCart`** : chiffre d'affaire total d'un client sur la période donnée) des clients en fonction des variables suivantes:\n",
    "* **`Age`** : âge du client en années.\n",
    "* **`Seniority`** : ancienneté du client en années.\n",
    "* **`Orders`** : Nombre de commandes effectuées sur la période précédente.\n",
    "* **`Items`** : Nombre d'items commandés sur la période précédente.\n",
    "* **`AverageDiscount`** : Réduction moyenne accordée au client sur la période précédente en pourcentage.\n",
    "* **`TopCategory`** : Catégorie de produits favorite du client.\n",
    "* **`BrowsingTime`** : Temps total passé sur le site web sur la période précédente en secondes.\n",
    "* **`EmailsOpened`** : Nombre de mails marketing ouverts par le client sur la période précédente.\n",
    "* **`SupportInteractions`** : Nombre d'interactions que le client a eu avec le service client sur la période précédente.\n",
    "\n",
    "Le jeu de données est décomposé en 4 périodes correspondant aux 4 trimestres de l'année 2022. Vous trouverez les données correspondant à chaque période dans les fichiers **`period_0.csv`**, **`period_1.csv`**, ..., **`period_3.csv`**.\n",
    "\n",
    "Vous allez d'abord **entraîner et évaluer un modèle de machine learning** sur les données de la **période 0**. On supposera que ce modèle sera utilisé pour effectuer les prédictions de panier total sur toute l'année 2022.\n",
    "\n",
    "Ensuite, vous devrez **implémenter des métriques de dérive** qui vous seront données et **effectuer une analyse** de celle-ci.\n",
    "\n",
    "# Entraînement du modèle\n",
    "\n",
    "* **Entraînez et validez** deux ou trois modèles de votre choix sur les données de la période 0. \n",
    "\n",
    "**Conseils**\n",
    "\n",
    "* Vous serez évalué sur votre **rigueur** et non sur les performances du modèle.\n",
    "\n",
    "\n",
    "* Il n'est pas nécessaire de faire une analyse exploratoire des données.\n",
    "\n",
    "\n",
    "* Il n'est pas nécessaire de faire de recherche d'hyperparamètres optimaux non plus mais vous pouvez le faire si vous le souhaitez."
   ]
  },
  {
   "cell_type": "markdown",
   "id": "7f022930",
   "metadata": {},
   "source": [
    "# Exercice 1 : \n",
    "\n",
    "Dans cette partie, je vais **récupérer les données de la période 0** puis les diviser en **données d'entraînements en entrée/sortie** et **données de test en entrée/sortie**.\n",
    "\n",
    "Ensuite, je me servirais de ces données pour entraîner et valider deux modèles :\n",
    "\n",
    "* Un modèle basé sur la **régression linéaire multiple**.\n",
    "\n",
    "* Un modèle en **arbre de décision**."
   ]
  },
  {
   "cell_type": "markdown",
   "id": "4204ef3b",
   "metadata": {},
   "source": [
    "\n",
    "*Importation de librairies et classes*. "
   ]
  },
  {
   "cell_type": "code",
   "execution_count": 499,
   "id": "8905fd56",
   "metadata": {},
   "outputs": [],
   "source": [
    "import pandas as pd\n",
    "import math\n",
    "import numpy as np\n",
    "\n",
    "from sklearn.model_selection import train_test_split\n",
    "from sklearn.preprocessing import StandardScaler\n",
    "\n",
    "from sklearn.linear_model import LinearRegression\n",
    "from sklearn.tree import DecisionTreeRegressor\n",
    "\n",
    "from sklearn.metrics import mean_squared_error\n",
    "from sklearn.metrics import mean_absolute_error\n",
    "\n",
    "import matplotlib.pyplot as plt; plt.rcdefaults()\n",
    "import numpy as np\n",
    "import matplotlib.pyplot as plt"
   ]
  },
  {
   "cell_type": "markdown",
   "id": "9ed0ddc4",
   "metadata": {},
   "source": [
    "Récupération des données sous forme de pandas DataFrame"
   ]
  },
  {
   "cell_type": "code",
   "execution_count": 500,
   "id": "11757c34",
   "metadata": {},
   "outputs": [],
   "source": [
    "period_0 = pd.read_csv(\"period_0.csv\")"
   ]
  },
  {
   "cell_type": "markdown",
   "id": "6550bbf9",
   "metadata": {},
   "source": [
    "**On découpe nos données initiales :**\n",
    "* `x` : les variables explicatives; toutes les variables sauf la variable à prédire\n",
    "\n",
    "* `y` : la variable à prédire; \"TotalCart\""
   ]
  },
  {
   "cell_type": "markdown",
   "id": "5f9e3f51",
   "metadata": {},
   "source": [
    "> *Remarque* : L'âge est souvent considéré comme une variable qualitative, néanmoins, je pense que plus une personne est âgée, plus elle a des dépenses importantes à faire. Donc je la considère comme quantitative."
   ]
  },
  {
   "cell_type": "code",
   "execution_count": 501,
   "id": "bbc4bf21",
   "metadata": {},
   "outputs": [],
   "source": [
    "x = period_0.loc[:, period_0.columns != \"TotalCart\"]\n",
    "y = period_0[\"TotalCart\"]"
   ]
  },
  {
   "cell_type": "markdown",
   "id": "c95e8fb5",
   "metadata": {},
   "source": [
    "Nous traitons un cas avec une variable qualitative **TopCategory**, nous devons donc appliquer un algorithme d'encodage à chaud avant de poursuivre.\n",
    "\n",
    "L'encodage à chaud se fera via la fonction **pd.get_dummies** et le nouveau data set sera stocké sur **x_d**."
   ]
  },
  {
   "cell_type": "code",
   "execution_count": 502,
   "id": "eb5e7f6e",
   "metadata": {},
   "outputs": [],
   "source": [
    "x_d = pd.get_dummies(x)"
   ]
  },
  {
   "cell_type": "markdown",
   "id": "fb561463",
   "metadata": {},
   "source": [
    "**Division en données de formation et données d'évaluation** :\n",
    "\n",
    "On utilise la fonction **train_test_split** de la librairie sklearn.model_selection afin de répartir nos données en données de formation et données d'évaluation.\n",
    "* **x_train** : Données de formation en entrée\n",
    "* **x_test**  : Données d'évaluation en entrée\n",
    "* **y_train** : Données de formations en sortie\n",
    "* **y_test**  : Données d'évaluations en sortie\n",
    "\n",
    "80% des données seront utilisées pour **l'entrainement** du modèle et les 20% restants pour la **validation**"
   ]
  },
  {
   "cell_type": "code",
   "execution_count": 503,
   "id": "3c5c3ada",
   "metadata": {},
   "outputs": [],
   "source": [
    "x_train, x_test, y_train, y_test = train_test_split(x_d, y, test_size = 0.2, random_state = 0)"
   ]
  },
  {
   "cell_type": "markdown",
   "id": "cce8b679",
   "metadata": {},
   "source": [
    "### Régression linéaire multiple\n",
    "\n",
    "A partir des données choisies nous allons créer un modèle de régression linéaire multiple. En effet, la régression linéaire est une manière efficace de prédire une variable quantitative continue."
   ]
  },
  {
   "cell_type": "markdown",
   "id": "1dcd28f9",
   "metadata": {},
   "source": [
    "**Mise en forme des données**\n",
    "\n",
    "Nous allons **centrer et réduire** nos données pour optimiser l'algorithme de **régression**."
   ]
  },
  {
   "cell_type": "code",
   "execution_count": 504,
   "id": "d13b47c9",
   "metadata": {},
   "outputs": [],
   "source": [
    "scaler = StandardScaler()\n",
    "\n",
    "x_train_rlm = scaler.fit_transform(x_train)\n",
    "x_test_rlm  = scaler.transform(x_test)"
   ]
  },
  {
   "cell_type": "markdown",
   "id": "6723c8ea",
   "metadata": {},
   "source": [
    "On **crée et entraîne notre modèle** en utilisant les données de formation : "
   ]
  },
  {
   "cell_type": "code",
   "execution_count": 505,
   "id": "a97c71f5",
   "metadata": {},
   "outputs": [
    {
     "data": {
      "text/plain": [
       "LinearRegression()"
      ]
     },
     "execution_count": 505,
     "metadata": {},
     "output_type": "execute_result"
    }
   ],
   "source": [
    "model_rlm = LinearRegression()\n",
    "model_rlm.fit(x_train_rlm, y_train)"
   ]
  },
  {
   "cell_type": "markdown",
   "id": "d15d2443",
   "metadata": {},
   "source": [
    "On effectue nos **predictions** : "
   ]
  },
  {
   "cell_type": "code",
   "execution_count": 506,
   "id": "ec87d761",
   "metadata": {},
   "outputs": [],
   "source": [
    "y_pred_rlm = model_rlm.predict(x_test_rlm)"
   ]
  },
  {
   "cell_type": "markdown",
   "id": "4e92813c",
   "metadata": {},
   "source": [
    "On **valide notre modèle** sur les **données d'évaluation** via la **Mean Squared Error** et la **Mean Absolute Error** : "
   ]
  },
  {
   "cell_type": "code",
   "execution_count": 507,
   "id": "70de8821",
   "metadata": {},
   "outputs": [
    {
     "name": "stdout",
     "output_type": "stream",
     "text": [
      "mse =  85.84491811332678  & mae =  4.566313010109085  & rmse =  9.265253267629912\n"
     ]
    }
   ],
   "source": [
    "test_mse = mean_squared_error(y_test, y_pred_rlm)\n",
    "test_mae = mean_absolute_error(y_test, y_pred_rlm)\n",
    "print(\"mse = \",test_mse,\" & mae = \",test_mae,\" & rmse = \", math.sqrt(test_mse))"
   ]
  },
  {
   "cell_type": "markdown",
   "id": "eabbb335",
   "metadata": {},
   "source": [
    "On observe aussi le **coefficient de détermination** :"
   ]
  },
  {
   "cell_type": "code",
   "execution_count": 510,
   "id": "27d0a2ac",
   "metadata": {},
   "outputs": [
    {
     "name": "stdout",
     "output_type": "stream",
     "text": [
      "70.00776508067652 %\n"
     ]
    }
   ],
   "source": [
    "print(model_rlm.score(x_test_rlm, y_test)*100,'%')"
   ]
  },
  {
   "cell_type": "markdown",
   "id": "87edc3e0",
   "metadata": {},
   "source": [
    "On a une erreur **moyenne absolue d'environ 4.6** et un **coefficient de détermination à 70%**."
   ]
  },
  {
   "cell_type": "markdown",
   "id": "a682e941",
   "metadata": {},
   "source": [
    "### Arbre de décision\n",
    "\n",
    "Une autre manière efficace de prévoir une variable continue est via un **arbre de décision**. Ceux-ci présentent de nombreux avantages, nottament, on peut utiliser des variables qualitatives/quantatives sans avoir à modifier la donnée pour améliorer la performance, ce qui est avantageux en l'occurence."
   ]
  },
  {
   "cell_type": "markdown",
   "id": "ee713360",
   "metadata": {},
   "source": [
    "On **crée et entraîne notre modèle** en utilisant les données de formation : "
   ]
  },
  {
   "cell_type": "code",
   "execution_count": 263,
   "id": "d26fea93",
   "metadata": {},
   "outputs": [
    {
     "data": {
      "text/plain": [
       "DecisionTreeRegressor(max_depth=20)"
      ]
     },
     "execution_count": 263,
     "metadata": {},
     "output_type": "execute_result"
    }
   ],
   "source": [
    "model_dtg = DecisionTreeRegressor(max_depth=20)\n",
    "model_dtg.fit(x_train, y_train)"
   ]
  },
  {
   "cell_type": "markdown",
   "id": "83d16cfe",
   "metadata": {},
   "source": [
    "On effectue les **prédictions** : "
   ]
  },
  {
   "cell_type": "code",
   "execution_count": 264,
   "id": "83f32f64",
   "metadata": {},
   "outputs": [],
   "source": [
    "y_pred_dtg = model_dtg.predict(x_test)"
   ]
  },
  {
   "cell_type": "markdown",
   "id": "e3323520",
   "metadata": {},
   "source": [
    "On **valide le modèle** : "
   ]
  },
  {
   "cell_type": "code",
   "execution_count": 265,
   "id": "0051b5e9",
   "metadata": {},
   "outputs": [
    {
     "name": "stdout",
     "output_type": "stream",
     "text": [
      "mse =  8.950043  & mae =  2.1833  & rmse =  2.991662246979094\n"
     ]
    }
   ],
   "source": [
    "test_mse = mean_squared_error(y_test,y_pred_dtg)\n",
    "test_mae = mean_absolute_error(y_test, y_pred_dtg)\n",
    "print(\"mse = \",test_mse,\" & mae = \",test_mae,\" & rmse = \", math.sqrt(test_mse))"
   ]
  },
  {
   "cell_type": "markdown",
   "id": "fa0ef784",
   "metadata": {},
   "source": [
    "On a une **erreur absolue moyenne d'environ 2.2**."
   ]
  },
  {
   "cell_type": "markdown",
   "id": "f92b5619",
   "metadata": {},
   "source": [
    "* **Entrainez votre modèle sur toute la période 0** puis **testez votre modèle** sur les données des **périodes 1, 2 et 3**. Comment évolue la performance du modèle?"
   ]
  },
  {
   "cell_type": "markdown",
   "id": "44300d1b",
   "metadata": {},
   "source": [
    "## Partie 2 : Entrainement d'un modèle sur toute la période 0\n",
    "\n",
    "Dans cette partie nous nous contrerons sur un seul modèle, **l'Arbre de décision**, en effet c'est celui qui a montré les meilleurs résultats auparavants. \n",
    "\n",
    "Une autre raison de le choisir : **un arbre de décision est très sensible aux variations de la donnée**. Par conséquent l'analyse de la mesure de la dérive des variables sera beaucoup plus net.\n",
    "\n",
    "Je vais commencer par **récupérer les données**, **définir** les données d'entraînement et de tests, effectuer les **prédictions** et finalement valider le modèle et comparer les résultats obtenus."
   ]
  },
  {
   "cell_type": "markdown",
   "id": "022ca0df",
   "metadata": {},
   "source": [
    "**Récupération des données** : "
   ]
  },
  {
   "cell_type": "code",
   "execution_count": 494,
   "id": "4037896f",
   "metadata": {},
   "outputs": [],
   "source": [
    "period_1 = pd.read_csv(\"period_1.csv\")\n",
    "period_2 = pd.read_csv(\"period_2.csv\")\n",
    "period_3 = pd.read_csv(\"period_3.csv\")"
   ]
  },
  {
   "cell_type": "markdown",
   "id": "6861dd31",
   "metadata": {},
   "source": [
    "Définitions des données **d'entraînement** et de **tests** : \n",
    "* **x_train** et **y_train** : Données de formation; x en entrée et y en sortie.\n",
    "\n",
    "\n",
    "* **x_test_pN** et **y_test_pN** : Données de test à la période N; x en entrée et y en sortie, N = 1, 2 ou 3.  "
   ]
  },
  {
   "cell_type": "code",
   "execution_count": 495,
   "id": "36783f98",
   "metadata": {},
   "outputs": [],
   "source": [
    "x_train = period_0.loc[:, period_0.columns != \"TotalCart\"]\n",
    "x_train = pd.get_dummies(x_train)\n",
    "y_train = period_0.loc[:, \"TotalCart\"]\n",
    "\n",
    "x_test_p1 = period_1.loc[:, period_1.columns != \"TotalCart\"]\n",
    "x_test_p1 = pd.get_dummies(x_test_p1)\n",
    "y_test_p1 = period_1.loc[:, \"TotalCart\"]\n",
    "\n",
    "x_test_p2 = period_2.loc[:, period_2.columns != \"TotalCart\"]\n",
    "x_test_p2 = pd.get_dummies(x_test_p2)\n",
    "y_test_p2 = period_2.loc[:, \"TotalCart\"]\n",
    "\n",
    "x_test_p3 = period_3.loc[:, period_3.columns != \"TotalCart\"]\n",
    "x_test_p3 = pd.get_dummies(x_test_p3)\n",
    "y_test_p3 = period_3.loc[:, \"TotalCart\"]"
   ]
  },
  {
   "cell_type": "markdown",
   "id": "9542234c",
   "metadata": {},
   "source": [
    "**Création** & **entrainement** du modèle sur la période 0 :"
   ]
  },
  {
   "cell_type": "code",
   "execution_count": 496,
   "id": "c7ee87a6",
   "metadata": {},
   "outputs": [
    {
     "data": {
      "text/plain": [
       "DecisionTreeRegressor(max_depth=20)"
      ]
     },
     "execution_count": 496,
     "metadata": {},
     "output_type": "execute_result"
    }
   ],
   "source": [
    "model_dtg = DecisionTreeRegressor(max_depth=20)\n",
    "model_dtg.fit(x_train, y_train)"
   ]
  },
  {
   "cell_type": "markdown",
   "id": "3b07b6f0",
   "metadata": {},
   "source": [
    "On **prédit** les données pour la période 1, 2 et 3 et on les stock dans la variable : \n",
    "\n",
    "* **`y_pred_pN`** : prédictions des valeurs pour la période N, N = 1, 2 ou 3."
   ]
  },
  {
   "cell_type": "code",
   "execution_count": 497,
   "id": "d39ff0f6",
   "metadata": {},
   "outputs": [],
   "source": [
    "y_pred_p1 = model_dtg.predict(x_test_p1)\n",
    "y_pred_p2 = model_dtg.predict(x_test_p2)\n",
    "y_pred_p3 = model_dtg.predict(x_test_p3)"
   ]
  },
  {
   "cell_type": "markdown",
   "id": "d00b526a",
   "metadata": {},
   "source": [
    "**Validations** pour la periode 1 : "
   ]
  },
  {
   "cell_type": "code",
   "execution_count": 498,
   "id": "ae77d29a",
   "metadata": {},
   "outputs": [
    {
     "name": "stdout",
     "output_type": "stream",
     "text": [
      "mse =  72.9116538  & mae =  7.71456  & rmse =  8.538832109837973\n"
     ]
    }
   ],
   "source": [
    "test_mse = mean_squared_error(y_test_p1,y_pred_p1)\n",
    "test_mae = mean_absolute_error(y_test_p1, y_pred_p1)\n",
    "print(\"mse = \",test_mse,\" & mae = \",test_mae,\" & rmse = \", math.sqrt(test_mse))"
   ]
  },
  {
   "cell_type": "markdown",
   "id": "ccaf908e",
   "metadata": {},
   "source": [
    "**Validations** pour la période 2 : "
   ]
  },
  {
   "cell_type": "code",
   "execution_count": 271,
   "id": "e0543317",
   "metadata": {},
   "outputs": [
    {
     "name": "stdout",
     "output_type": "stream",
     "text": [
      "mse =  82.6570062  & mae =  8.2418  & rmse =  9.091589860964913\n"
     ]
    }
   ],
   "source": [
    "test_mse = mean_squared_error(y_test_p2,y_pred_p2)\n",
    "test_mae = mean_absolute_error(y_test_p2, y_pred_p2)\n",
    "print(\"mse = \",test_mse,\" & mae = \",test_mae,\" & rmse = \", math.sqrt(test_mse))"
   ]
  },
  {
   "cell_type": "markdown",
   "id": "b54a7533",
   "metadata": {},
   "source": [
    "**Validations** pour la période 3 :"
   ]
  },
  {
   "cell_type": "code",
   "execution_count": 272,
   "id": "e44cbb47",
   "metadata": {},
   "outputs": [
    {
     "name": "stdout",
     "output_type": "stream",
     "text": [
      "mse =  166.7948959  & mae =  11.27117  & rmse =  12.91490982934066\n"
     ]
    }
   ],
   "source": [
    "test_mse = mean_squared_error(y_test_p3,y_pred_p3)\n",
    "test_mae = mean_absolute_error(y_test_p3, y_pred_p3)\n",
    "print(\"mse = \",test_mse,\" & mae = \",test_mae,\" & rmse = \", math.sqrt(test_mse))"
   ]
  },
  {
   "cell_type": "markdown",
   "id": "aa7b6b5d",
   "metadata": {},
   "source": [
    "On peut voir la qualité a baissé par rapport aux tests effectuées en **partie 1**, on le voit à la valeur des outils de validations, nottament à la valeur de MSE qui est l'indicateur le plus sensible aux variations d'erreurs.\n",
    "\n",
    "On peut aussi voir que l'érreur est croissante par rapport au temps; visiblement, le modèle devient de plus en plus obsolète."
   ]
  },
  {
   "cell_type": "markdown",
   "id": "99459d15",
   "metadata": {},
   "source": [
    "# Mesure de la dérive de variables catégorielles.\n",
    "\n",
    "Pour deux distributions de probabilités discrètes $P$ et $Q$, la **divergence de Kullback–Leibler** de $P$ par rapport à $Q$ est définie par:\n",
    "\n",
    "$$D_\\text{KL}(P \\parallel Q) = \\sum_{x\\in\\mathcal{X}} P(x) \\log\\left(\\frac{P(x)}{Q(x)}\\right)$$\n",
    "\n",
    "\n",
    "On définit la **divergence de Jensen-Shannon** comme une version lisse et symétrique de la divergence de Kullback-Leiber donnée par la formule suivante:\n",
    "\n",
    "$${\\rm JSD}(P \\parallel Q)= \\frac{1}{2}D(P \\parallel M)+\\frac{1}{2}D(Q \\parallel M)$$\n",
    "\n",
    "où $M=\\frac{1}{2}(P+Q)$\n",
    "\n",
    "### Exemple de calcul de $D_\\text{KL}(P \\parallel Q)$ : \n",
    "\n",
    "Soient $P$ =`[0.2, 0.3, 0.5]` et $Q$ =`[0.2, 0.4, 0.4]` deux vecteurs définissant une loi de probabilité discrete. Alors : \n",
    "\n",
    "$$\n",
    "\\begin{equation}\n",
    "\\begin{split}\n",
    "D_\\text{KL}(P \\parallel Q) & = P(0) \\log\\left(\\frac{P(0)}{Q(0)}\\right)\n",
    "                             + P(1) \\log\\left(\\frac{P(1)}{Q(1)}\\right)\n",
    "                             + P(2) \\log\\left(\\frac{P(2)}{Q(2)}\\right)\\\\ \\\\\n",
    "                           & = 0.2 \\log\\left(\\frac{0.2}{0.2}\\right)\n",
    "                             + 0.3 \\log\\left(\\frac{0.3}{0.4}\\right)\n",
    "                             + 0.5 \\log\\left(\\frac{0.5}{0.4}\\right) \\\\ \\\\\n",
    "                           & = 0.02526...\n",
    "\\end{split}\n",
    "\\end{equation}\n",
    "$$\n",
    "\n",
    "### Exercice\n",
    "\n",
    "* Implémenter des fonctions nommées **`KLDivergence(P, Q)`** et **`JSDivergence(P, Q)`** permettant de calculer les métriques définies ci-dessus.\n",
    "\n",
    "**Conseils**:\n",
    "* Utiliser la librairie Numpy permettant de facilement effectuer des calculs d'algèbre linéaire."
   ]
  },
  {
   "cell_type": "code",
   "execution_count": 312,
   "id": "0993e50e",
   "metadata": {},
   "outputs": [],
   "source": [
    "import numpy as np \n",
    "\n",
    "P = np.array([0.2, 0.3, 0.5])\n",
    "Q = np.array([0.2, 0.4, 0.4])\n",
    "\n",
    "def KLDivergence(P, Q):\n",
    "    \n",
    "    DKL = sum(P*np.log(P/Q)) \n",
    "    \n",
    "    return DKL \n",
    "\n",
    "def JSDivergence(P, Q):\n",
    "    \n",
    "    M = 1/2*(P + Q)\n",
    "    JSD = 1/2*(KLDivergence(P, M) + KLDivergence(Q, M))\n",
    "    \n",
    "    return JSD"
   ]
  },
  {
   "cell_type": "markdown",
   "id": "b288b04e",
   "metadata": {},
   "source": [
    "* Lancer la cellule suivante pour tester votre fonction."
   ]
  },
  {
   "cell_type": "code",
   "execution_count": 292,
   "id": "4f5a4969",
   "metadata": {},
   "outputs": [
    {
     "name": "stdout",
     "output_type": "stream",
     "text": [
      "K-L Divergence: 0.02526715392157057\n",
      "J-S Divergence: 0.006367198333995731\n"
     ]
    }
   ],
   "source": [
    "print(\"K-L Divergence:\", KLDivergence(P, Q))\n",
    "print(\"J-S Divergence:\", JSDivergence(P, Q))"
   ]
  },
  {
   "cell_type": "markdown",
   "id": "675968bf",
   "metadata": {},
   "source": [
    "# Mesure de la dérive de variables quantitatives.\n",
    "\n",
    "Soit $P$ une mesure empirique d'échantillons $X_1, \\ldots, X_n\n",
    "$ et $Q$ une mesure empirique d'échantillons $Y_1, \\ldots, Y_n$, on définit la **Distance de Wasserstein** d'ordre $p$ par la fonction suivante :\n",
    "\n",
    "$$W_p(P, Q) = \\left( \\frac{1}{n}\\sum_{i=1}^n \\|X_{(i)} - Y_{(i)}\\|^p \\right)^{1/p}$$\n",
    "\n",
    "où $X_{(1)}, \\ldots, X_{(n)}$ et $Y_{(1)}, \\ldots, Y_{(n)}$ sont les [**statistiques d'ordre**](https://en.wikipedia.org/wiki/Order_statistic#Notation_and_examples) des échantillons $X$ et $Y$ et $p$ un nombre entier positif.\n",
    "\n",
    "### Exercice\n",
    "\n",
    "* Implémenter une fonction nommée **`WassersteinDistance(X, Y, p)`** permettant de calculer cette métrique à l'ordre **`p`** à partir de **deux échantillons** **`X`** et **`Y`** que l'on supposera de même longueur.\n",
    "\n",
    "**Conseils**:\n",
    "* Vous pouvez trier les échantillons pour obtenir les statistiques d'ordre."
   ]
  },
  {
   "cell_type": "code",
   "execution_count": 309,
   "id": "107f656a",
   "metadata": {},
   "outputs": [],
   "source": [
    "def WassersteinDistance(X, Y, p):\n",
    "    \n",
    "    n = len(X)\n",
    "    \n",
    "    X.sort() #on trie les échantillons\n",
    "    Y.sort()\n",
    "    \n",
    "    x_y = np.absolute(X - Y)\n",
    "    \n",
    "    to_mean = x_y**p\n",
    "    \n",
    "    WD = np.mean(to_mean)**(1/p)\n",
    "    \n",
    "    return WD\n",
    "    "
   ]
  },
  {
   "cell_type": "markdown",
   "id": "fd06da66",
   "metadata": {},
   "source": [
    "* Lancer la cellule suivante pour tester votre fonction."
   ]
  },
  {
   "cell_type": "code",
   "execution_count": 323,
   "id": "11d0e0a5",
   "metadata": {},
   "outputs": [
    {
     "name": "stdout",
     "output_type": "stream",
     "text": [
      "0.06078504266077469      0.060785042660774696\n"
     ]
    }
   ],
   "source": [
    "X = np.random.beta(2, 6, 100)\n",
    "\n",
    "Y = np.random.beta(3, 6, 100)\n",
    "\n",
    "WassersteinDistance(X, Y, 2)"
   ]
  },
  {
   "cell_type": "markdown",
   "id": "12dbe4fc",
   "metadata": {},
   "source": [
    "# Étude de la dérive du modèle.\n",
    "\n",
    "* En vous appuyant sur les métriques définies précédemment, illustrez et analysez visuellement la **dérive des données** ainsi que **la dérive du modèle** sur les périodes **1 à 3**. \n",
    "\n",
    "\n",
    "* Commenter les visualisations et déterminer si le modèle doit être mis à jour ou si sa performance est toujours acceptable. \n",
    "\n",
    "**Conseils**:\n",
    "* Vous serez évalué sur **la rigueur et le soin** que vous donnerez à votre analyse, et sur **vos capacités à synthéthiser votre étude**. Vous ne serez pas évalué sur vos conclusions.\n",
    "\n",
    "\n",
    "* Vous pouvez normaliser les données par rapport aux **moyennes et variances que vous calculerez sur la période 0** pour que les distances de Wasserstein pour différentes variables soient facilement comparables."
   ]
  },
  {
   "cell_type": "markdown",
   "id": "57c646ad",
   "metadata": {},
   "source": [
    "# Plan : \n",
    "\n",
    "Cette partie se focalise sur l'analyse de la **dérive des données** ainsi que la **dérive du modèle**. \n",
    "\n",
    "En premier lieu, je vais **analyser la dérive des variables des données d'entrainements** par rapport aux données observées en **période 1, 2 et 3** à travers ces deux sous parties :\n",
    "\n",
    "* L'analyse de la dérive variable catégorielle **`TopCategory`**.\n",
    "\n",
    "* L'analyse de la dérive des **`variables quantitatives`**.\n",
    "\n",
    "Ce qui permettra de savoir quelle période et quelles variables ont présenté le plus de changements.\n",
    "\n",
    "En second lieu, j'analyserais la dérive des **`données prédites par le modèle`** pour les **périodes 1, 2 et 3** par rapport aux **données observées en ces périodes** et je vais la comparer à la dérive de la variable **`TotalCart`** de la période 0 par rapport aux périodes 1, 2 et 3.\n",
    "\n",
    "Ce qui me permettra de **conclure sur l'éfficacité du modèle** et si il doit, ou non, être mis à jour."
   ]
  },
  {
   "cell_type": "markdown",
   "id": "d8964a80",
   "metadata": {},
   "source": [
    "## Partie 1 : \n",
    "\n",
    "Je vais commencer cette partie dédiée à l'analyse de la dérive des **`variables explicatives`** par l'analyse de la dérive de la variable **`TopCategory`**. "
   ]
  },
  {
   "cell_type": "markdown",
   "id": "af28a4b9",
   "metadata": {},
   "source": [
    "Je vais commencer par calculer la densité empirique **`d_TopCateg_pN`** associée à la variable TopCategory en période N = 0,1,2,3"
   ]
  },
  {
   "cell_type": "code",
   "execution_count": 480,
   "id": "8da288b3",
   "metadata": {},
   "outputs": [],
   "source": [
    "d_TopCateg_p0 = period_0[\"TopCategory\"].value_counts(normalize=True).sort_values()\n",
    "d_TopCateg_p1 = period_1[\"TopCategory\"].value_counts(normalize=True).sort_values()\n",
    "d_TopCateg_p2 = period_2[\"TopCategory\"].value_counts(normalize=True).sort_values()\n",
    "d_TopCateg_p3 = period_3[\"TopCategory\"].value_counts(normalize=True).sort_values()"
   ]
  },
  {
   "cell_type": "markdown",
   "id": "2ef27277",
   "metadata": {},
   "source": [
    "A présent, on peut calculer la **divergence de Kullback–Leibler** et la **divergence de Jensen-Shannon** et les stocker dans les variables: \n",
    "\n",
    "* `KLD_pN` : divergence de Kullback-Leibler, p0 par rapport à pN.\n",
    "* `JSD_pN` : divergence de Jensen-Shannon, p0 par rapport à pN."
   ]
  },
  {
   "cell_type": "code",
   "execution_count": 482,
   "id": "1ef6f8fa",
   "metadata": {},
   "outputs": [],
   "source": [
    "KLD_p1 = KLDivergence(d_TopCateg_p0, d_TopCateg_p1) \n",
    "KLD_p2 = KLDivergence(d_TopCateg_p0, d_TopCateg_p2) \n",
    "KLD_p3 = KLDivergence(d_TopCateg_p0, d_TopCateg_p3)\n",
    "\n",
    "JSD_p1 = JSDivergence(d_TopCateg_p0, d_TopCateg_p1)\n",
    "JSD_p2 = JSDivergence(d_TopCateg_p0, d_TopCateg_p2) \n",
    "JSD_p3 = JSDivergence(d_TopCateg_p0, d_TopCateg_p3) "
   ]
  },
  {
   "cell_type": "markdown",
   "id": "bbfba26e",
   "metadata": {},
   "source": [
    "A présent nous allons analyser les distances. En l'occurence nous devons **mettre en évidence** la distance des données de la période 0 par rapport aux données des périodes suivantes. C'est pourquoi je vais me tourner vers un **diagramme à bâton** avec les périodes en abscisse et la distance en ordonnée. Je vais aussi dessiner deux bâtons : un correspondant à la distance JS, l'autre à la distance KL."
   ]
  },
  {
   "cell_type": "code",
   "execution_count": 485,
   "id": "79953356",
   "metadata": {},
   "outputs": [
    {
     "data": {
      "image/png": "[encoded data removed]",
      "text/plain": [
       "<Figure size 640x480 with 1 Axes>"
      ]
     },
     "metadata": {},
     "output_type": "display_data"
    },
    {
     "name": "stdout",
     "output_type": "stream",
     "text": [
      "[0.004543012975517584, 0.004842393153548316, 0.010243641370144203]\n"
     ]
    }
   ],
   "source": [
    "objects = ('Period 1', 'Period 2', 'Period 3')\n",
    "y_pos = np.arange(len(objects))\n",
    "\n",
    "div_tot_tg_JS = [JSD_p1, JSD_p2, JSD_p3]\n",
    "div_tot_tg_KL = [KLD_p1, KLD_p2, KLD_p3]\n",
    "\n",
    "fig, ax = plt.subplots()\n",
    "bar_width = 0.35\n",
    "opacity = 0.8\n",
    "\n",
    "rects1 = plt.bar(y_pos, div_tot_tg_JS, bar_width,\n",
    "alpha=opacity,\n",
    "color='black',\n",
    "label='JS Divergence')\n",
    "\n",
    "rects2 = plt.bar(y_pos + bar_width, div_tot_tg_KL, bar_width,\n",
    "alpha=opacity,\n",
    "color='r',\n",
    "label='KL Divergence')\n",
    "\n",
    "plt.xlabel('Periods')\n",
    "plt.ylabel('Distance')\n",
    "plt.title('Distance with period 0 & others in TopCategory')\n",
    "plt.xticks(y_pos + bar_width, objects)\n",
    "plt.legend()\n",
    "\n",
    "plt.tight_layout()\n",
    "plt.show()"
   ]
  },
  {
   "cell_type": "markdown",
   "id": "6f94a729",
   "metadata": {},
   "source": [
    "On peut voir dans ce diagramme que les données **`Top Category ont changé par rapport à la période 0`**, en particulier en période 3."
   ]
  },
  {
   "cell_type": "markdown",
   "id": "02b75ea1",
   "metadata": {},
   "source": [
    "* A présent, étudions la dérive des **données quantitatives** :"
   ]
  },
  {
   "cell_type": "markdown",
   "id": "44b73d32",
   "metadata": {},
   "source": [
    "On va commencer par récupérer les données de **formation en entrée** (période 0) dans la variable **`x_train`**, les données de **formation en sortie** (période 1 à 3), dans les variables **`x_test_pN`**, N = 1, 2 ou 3."
   ]
  },
  {
   "cell_type": "code",
   "execution_count": 486,
   "id": "0ae24b3a",
   "metadata": {},
   "outputs": [],
   "source": [
    "x_train = period_0\n",
    "x_train = x_train.drop(columns = [\"TopCategory\",\"TotalCart\"])\n",
    "\n",
    "\n",
    "x_test_p1 = period_1\n",
    "x_test_p1 = x_test_p1.drop(columns = [\"TopCategory\",\"TotalCart\"])\n",
    "\n",
    "x_test_p2 = period_2\n",
    "x_test_p2 = x_test_p2.drop(columns = [\"TopCategory\",\"TotalCart\"])\n",
    "\n",
    "\n",
    "x_test_p3 = period_3\n",
    "x_test_p3 = x_test_p3.drop(columns = [\"TopCategory\",\"TotalCart\"])"
   ]
  },
  {
   "cell_type": "markdown",
   "id": "fb7d8a39",
   "metadata": {},
   "source": [
    "A présent, on peut calculer la distance de Wasserstein que l'on va stocker dans le tableau : \n",
    "\n",
    "* **`WD_P0_PN`** : tableau contenant les distances de Wasserstein de la période 0 par à rapport à la période N.  "
   ]
  },
  {
   "cell_type": "code",
   "execution_count": 487,
   "id": "62079d16",
   "metadata": {},
   "outputs": [],
   "source": [
    "WD_P0_P1 = np.arange(8, dtype = float)\n",
    "WD_P0_P2 = np.arange(8, dtype = float)\n",
    "WD_P0_P3 = np.arange(8, dtype = float)\n",
    "\n",
    "i = 0\n",
    "p = 2\n",
    "\n",
    "for each in x_train:\n",
    "    \n",
    "    WD_P0_P1[i] = WassersteinDistance(np.array(x_train[each]), np.array(x_test_p1[each]),p)\n",
    "    WD_P0_P2[i] = WassersteinDistance(np.array(x_train[each]), np.array(x_test_p2[each]),p)\n",
    "    WD_P0_P3[i] = WassersteinDistance(np.array(x_train[each]), np.array(x_test_p3[each]),p)\n",
    "    i = i + 1"
   ]
  },
  {
   "cell_type": "markdown",
   "id": "5b5c8d75",
   "metadata": {},
   "source": [
    "Encore une fois, nous allons visualiser ces données via un **diagramme en bâton**.\n",
    "\n",
    "Cette fois-ci nous allons placer les **variables en abscisse**, la **distance de Wasserstein par rapport à la période 0 en ordonnée**, et dessiner trois bâtons, l'un correspondant à la distance par rapport à la période 1, la période 2 et à la période 3."
   ]
  },
  {
   "cell_type": "code",
   "execution_count": 489,
   "id": "4f8a1f5f",
   "metadata": {},
   "outputs": [
    {
     "data": {
      "image/png": "[encoded data removed]",
      "text/plain": [
       "<Figure size 1300x1300 with 1 Axes>"
      ]
     },
     "metadata": {},
     "output_type": "display_data"
    }
   ],
   "source": [
    "objects = ('Age', 'Seniority', 'Orders','Items', 'AverageDiscount', 'BrowsingTime','EmailsOpened','SupportInteractions')\n",
    "\n",
    "y_pos = np.arange(len(objects))\n",
    "\n",
    "fig, ax = plt.subplots(figsize=(13, 13))\n",
    "bar_width = 0.2\n",
    "opacity = 0.8\n",
    "\n",
    "rects1 = plt.bar(y_pos, WD_P0_P1, bar_width,\n",
    "alpha=opacity,\n",
    "color='b',\n",
    "label='Period 1 Data')\n",
    "\n",
    "rects2 = plt.bar(y_pos + bar_width, WD_P0_P2, bar_width,\n",
    "alpha=opacity,\n",
    "color='r',\n",
    "label='Period 2 Data')\n",
    "\n",
    "rects3 = plt.bar(y_pos + 2*bar_width, WD_P0_P3, bar_width,\n",
    "alpha=opacity,\n",
    "color='black',\n",
    "label='Period 3 Data')\n",
    "\n",
    "plt.xlabel('Features')\n",
    "plt.ylabel('Wasserstein Distance with period 0')\n",
    "plt.title('Distance with period 0 & predicted data')\n",
    "plt.xticks(y_pos + bar_width, objects,rotation=30, ha='right')\n",
    "plt.legend()\n",
    "\n",
    "plt.show()"
   ]
  },
  {
   "cell_type": "markdown",
   "id": "18d3e5b1",
   "metadata": {},
   "source": [
    "La variable qui présenté le plus de changement est le **`BrowsingTime`** et la période la plus changeante est encore une fois la **période 3**, suivie par la période 2.\n",
    "\n",
    "Maintenant que l'on sait quelle est la variable explicative et la période qui a le plus changé, voyons l'impact que ces changements ont eu sur la variable à expliquer; **`TotalCart`**."
   ]
  },
  {
   "cell_type": "markdown",
   "id": "89584e2f",
   "metadata": {},
   "source": [
    "## Partie 2 : \n",
    "\n",
    "Je vais commencer par calculer la distance de Wasserstein de la période 0 par rapport aux périodes 1, 2 et 3 en **`TotalCart`**. \n",
    "Je vais ranger ces valeurs dans le tableau **div_TotalCart**."
   ]
  },
  {
   "cell_type": "code",
   "execution_count": 490,
   "id": "2003e3be",
   "metadata": {},
   "outputs": [],
   "source": [
    "div_TotalCart = [WassersteinDistance(np.array(period_0[\"TotalCart\"]),np.array(period_1[\"TotalCart\"]),2),\n",
    "                 WassersteinDistance(np.array(period_0[\"TotalCart\"]),np.array(period_2[\"TotalCart\"]),2),\n",
    "                 WassersteinDistance(np.array(period_0[\"TotalCart\"]),np.array(period_3[\"TotalCart\"]),2),]"
   ]
  },
  {
   "cell_type": "markdown",
   "id": "6d94284c",
   "metadata": {},
   "source": [
    "Je vais à présent calculer la distance de Wasserstein pour les données prédites pour la période N, variable **y_pred_pN**, par rapport aux valeurs réelles respectives, et ranger ces valeurs dans le tableau **div_TotalCart_pred**."
   ]
  },
  {
   "cell_type": "code",
   "execution_count": 491,
   "id": "52bafcb1",
   "metadata": {},
   "outputs": [],
   "source": [
    "div_TotalCart_pred = [WassersteinDistance(y_pred_p1,np.array(period_1[\"TotalCart\"]),2),\n",
    "                      WassersteinDistance(y_pred_p2,np.array(period_2[\"TotalCart\"]),2),\n",
    "                      WassersteinDistance(y_pred_p3,np.array(period_3[\"TotalCart\"]),2),]"
   ]
  },
  {
   "cell_type": "markdown",
   "id": "0aef6007",
   "metadata": {},
   "source": [
    "Les données prêtes, nous allons les visualiser via un **diagramme en bâton** avec les **périodes en abscisse**, **la distance en ordonnée** et dessiner deux bâtons : un pour la **distance par rapport aux données prédites** et l'autre pour **la distance par rapport aux données de la période 0**. "
   ]
  },
  {
   "cell_type": "code",
   "execution_count": 492,
   "id": "815404a4",
   "metadata": {},
   "outputs": [
    {
     "data": {
      "image/png": "[encoded data removed]",
      "text/plain": [
       "<Figure size 640x480 with 1 Axes>"
      ]
     },
     "metadata": {},
     "output_type": "display_data"
    }
   ],
   "source": [
    "objects = ('Period 1', 'Period 2', 'Period 3')\n",
    "y_pos = np.arange(len(objects))\n",
    "\n",
    "fig, ax = plt.subplots()\n",
    "bar_width = 0.35\n",
    "opacity = 0.8\n",
    "\n",
    "rects1 = plt.bar(y_pos, div_TotalCart, bar_width,\n",
    "alpha=opacity,\n",
    "color='b',\n",
    "label='Period 0 Data')\n",
    "\n",
    "rects2 = plt.bar(y_pos + bar_width, div_TotalCart_pred, bar_width,\n",
    "alpha=opacity,\n",
    "color='r',\n",
    "label='Period Predicted Data')\n",
    "\n",
    "plt.xlabel('Periods')\n",
    "plt.ylabel('Wasserstein Distance')\n",
    "plt.title('Distance with period 0 & predicted data')\n",
    "plt.xticks(y_pos + bar_width, objects)\n",
    "plt.legend()\n",
    "\n",
    "plt.tight_layout()\n",
    "plt.show()"
   ]
  },
  {
   "cell_type": "markdown",
   "id": "452195d2",
   "metadata": {},
   "source": [
    "Ce diagramme montre assez clairement que la variable **`TotalCart`** a changé,en particulier à la période 3, encore une fois. Les variables explicatives ont vraisemblablement une influence sur elles. \n",
    "Les données prédites sont aussi distantes des données qu'elles sont censées prédire.\n",
    "On remarque aussi que **la dérive des données prédites par rapport aux données à prédire** est **proportionelle** à la **dérive de les périodes 1, 2 et 3 par rapport à la période 0**. "
   ]
  },
  {
   "cell_type": "markdown",
   "id": "fe721e71",
   "metadata": {},
   "source": [
    "## Conclusion : \n",
    "\n",
    "Nous avons vu dans que les **données explicatives ont beaucoup changé vis à vis de la période 0**, et ce surtout en période 3, **de même pour la variable à expliquer** qui est alors certainement corrêlé à ces variables. On a aussi vu que **la dérive des données prédites est proportionelle** à celle des données d'entraînements, du moins, en l'occurence .\n",
    "\n",
    "Ce qui nous permet de conclure que le modèle **doit en effet être mis à jour**. Néanmoins, mettre à jour modèle est une opération qui peut s'avérer couteuse, dans ce cas nous pouvons utiliser des algorithmes plus résistants à la dérive comme le **Random Forest**. "
   ]
  }
 ],
 "metadata": {
  "celltoolbar": "Aucun(e)",
  "kernelspec": {
   "display_name": "Python 3 (ipykernel)",
   "language": "python",
   "name": "python3"
  },
  "language_info": {
   "codemirror_mode": {
    "name": "ipython",
    "version": 3
   },
   "file_extension": ".py",
   "mimetype": "text/x-python",
   "name": "python",
   "nbconvert_exporter": "python",
   "pygments_lexer": "ipython3",
   "version": "3.9.12"
  }
 },
 "nbformat": 4,
 "nbformat_minor": 5
}
